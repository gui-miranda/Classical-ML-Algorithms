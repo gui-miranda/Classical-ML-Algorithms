{
 "cells": [
  {
   "cell_type": "code",
   "execution_count": 13,
   "id": "a3647434-b4e8-4da6-be1b-8bf1e65ac311",
   "metadata": {},
   "outputs": [],
   "source": [
    "import pandas as pd\n",
    "import numpy as np\n",
    "import matplotlib.pyplot as plt\n",
    "import seaborn as sns \n",
    "from factor_analyzer import FactorAnalyzer\n",
    "from factor_analyzer.factor_analyzer import calculate_bartlett_sphericity\n",
    "from factor_analyzer.factor_analyzer import calculate_kmo\n",
    "import pingouin as pg\n"
   ]
  },
  {
   "cell_type": "code",
   "execution_count": 14,
   "id": "4e03bb70-a04e-43a1-80d0-b764a885d223",
   "metadata": {},
   "outputs": [],
   "source": [
    "# 1. PCA "
   ]
  },
  {
   "cell_type": "code",
   "execution_count": null,
   "id": "98156178-a968-4465-96e9-21b31bedf88d",
   "metadata": {},
   "outputs": [],
   "source": [
    "features_cols.extend([\"critical_temp\",\"material\"])\n",
    "df = df[features_cols]"
   ]
  },
  {
   "cell_type": "code",
   "execution_count": null,
   "id": "cf400f16-464e-4399-9925-3fa427e36c93",
   "metadata": {},
   "outputs": [],
   "source": [
    "# Testando a adequação e possibilidade de extração de componentes principais\n",
    "# nesse conjunto de dados, através do Teste de Bartllet.\n",
    "# O Teste de Bartllet avalia a hipótese de que as amostras do conjunto possuem variância iguais.\n",
    "# H0 : Todas as Variâncias são iguais na amostra (Não há FATORES). \n",
    "# H1 : Pelo menos 2 das amostras possuem variância distinta (Há FATORES)\n",
    "# Se p_value < 5%, REJEITA-SE H0\n",
    "\n",
    "df_features = df[features_cols[0:-2]]\n",
    "bartlett, p_value = calculate_bartlett_sphericity(df_features)\n",
    "\n",
    "print(f'Bartlett statistic: {bartlett}')\n",
    "\n",
    "print(f'p-value : {p_value}')"
   ]
  },
  {
   "cell_type": "code",
   "execution_count": null,
   "id": "ce397274-c175-4973-af76-7bfeec07374e",
   "metadata": {},
   "outputs": [],
   "source": [
    "# Pelo critério da Raiz Latente, toma-se apenos fatores com \n",
    "# AUTOVALORES >= 1 (Nesse caso, apenas os 3 primeiros)\n",
    "\n",
    "fa.set_params(n_factors = 3, method = 'principal', rotation = None)\n",
    "fa.fit(df_features)\n",
    "\n",
    "# Calculando Autovalores, Variancias, e Variancias Acm.\n",
    "eigen_fatores = fa.get_factor_variance() \n",
    "\n",
    "tabela_eigen = pd.DataFrame(eigen_fatores)\n",
    "tabela_eigen.columns = [f\"Fator {i+1}\" for i, v in enumerate(tabela_eigen.columns)]\n",
    "tabela_eigen.index = ['Autovalor','Variância', 'Variância Acumulada']\n",
    "tabela_eigen = tabela_eigen.T\n",
    "tabela_eigen\n"
   ]
  },
  {
   "cell_type": "code",
   "execution_count": 15,
   "id": "a4d210e4-4ee3-4de4-9549-061f4ba1a5be",
   "metadata": {},
   "outputs": [
    {
     "ename": "NameError",
     "evalue": "name 'fa' is not defined",
     "output_type": "error",
     "traceback": [
      "\u001b[1;31m---------------------------------------------------------------------------\u001b[0m",
      "\u001b[1;31mNameError\u001b[0m                                 Traceback (most recent call last)",
      "Input \u001b[1;32mIn [15]\u001b[0m, in \u001b[0;36m<cell line: 2>\u001b[1;34m()\u001b[0m\n\u001b[0;32m      1\u001b[0m \u001b[38;5;66;03m# Calculando os Fatores para os observações do conjunto\u001b[39;00m\n\u001b[1;32m----> 2\u001b[0m predict_fatores\u001b[38;5;241m=\u001b[39m pd\u001b[38;5;241m.\u001b[39mDataFrame(\u001b[43mfa\u001b[49m\u001b[38;5;241m.\u001b[39mtransform(df_features))\n\u001b[0;32m      3\u001b[0m predict_fatores\u001b[38;5;241m.\u001b[39mcolumns \u001b[38;5;241m=\u001b[39m  [\u001b[38;5;124mf\u001b[39m\u001b[38;5;124m\"\u001b[39m\u001b[38;5;124mFator \u001b[39m\u001b[38;5;132;01m{\u001b[39;00mi\u001b[38;5;241m+\u001b[39m\u001b[38;5;241m1\u001b[39m\u001b[38;5;132;01m}\u001b[39;00m\u001b[38;5;124m\"\u001b[39m \u001b[38;5;28;01mfor\u001b[39;00m i, v \u001b[38;5;129;01min\u001b[39;00m \u001b[38;5;28menumerate\u001b[39m(predict_fatores\u001b[38;5;241m.\u001b[39mcolumns)]\n\u001b[0;32m      4\u001b[0m predict_fatores\n",
      "\u001b[1;31mNameError\u001b[0m: name 'fa' is not defined"
     ]
    }
   ],
   "source": [
    "# Calculando os Fatores para os observações do conjunto\n",
    "predict_fatores= pd.DataFrame(fa.transform(df_features))\n",
    "predict_fatores.columns =  [f\"Fator {i+1}\" for i, v in enumerate(predict_fatores.columns)]\n",
    "predict_fatores"
   ]
  },
  {
   "cell_type": "code",
   "execution_count": null,
   "id": "6a95f294-16ca-4115-b378-ee77dd199fcb",
   "metadata": {},
   "outputs": [],
   "source": [
    "# Mensurando o Score Fatorial de cada váriavel dentro dos respectivos fatores\n",
    "# através da memoria de calculo do predict\n",
    "\n",
    "scores = fa.weights_\n",
    "tabela_scores = pd.DataFrame(scores)\n",
    "tabela_scores.columns = [f\"Fator {i+1}\" for i, v in enumerate(tabela_scores.columns)]\n",
    "tabela_scores.index = df_features.columns\n",
    "tabela_scores"
   ]
  },
  {
   "cell_type": "code",
   "execution_count": null,
   "id": "1cfb28f4-2421-48d5-a712-827504af181a",
   "metadata": {},
   "outputs": [],
   "source": [
    "# Calculando as Cargas Fatoriais\n",
    "cargas_fatores = fa.loadings_\n",
    "\n",
    "tabela_cargas = pd.DataFrame(cargas_fatores)\n",
    "tabela_cargas.columns = [f\"Fator {i+1}\" for i, v in enumerate(tabela_cargas.columns)]\n",
    "tabela_cargas.index = df_features.columns\n",
    "tabela_cargas"
   ]
  },
  {
   "cell_type": "code",
   "execution_count": null,
   "id": "97e65170-9b97-4dc0-afe0-329c39db500b",
   "metadata": {},
   "outputs": [],
   "source": [
    "# Calculando as Comunalidades (% da Variancia total da feature que foi capturada nos fatores utilizados)\n",
    "comunalidades = fa.get_communalities()\n",
    "\n",
    "tabela_comunalidades = pd.DataFrame(comunalidades)\n",
    "tabela_comunalidades.columns = ['Comunalidades']\n",
    "tabela_comunalidades.index = df_features.columns\n",
    "tabela_comunalidades.sort_values(by='Comunalidades',ascending = True)"
   ]
  },
  {
   "cell_type": "code",
   "execution_count": null,
   "id": "37ec0157-fbcc-44a0-be62-1e1c3a0389b6",
   "metadata": {},
   "outputs": [],
   "source": [
    "# Checando a Correlação Entre Fatores\n",
    "corr_fator = pg.rcorr(df[['Fator 1','Fator 2','Fator 3']], method = 'pearson', upper = 'pval', decimals = 4, pval_stars = {0.01: '***', 0.05: '**', 0.10: '*'})\n",
    "print(corr_fator)"
   ]
  },
  {
   "cell_type": "code",
   "execution_count": null,
   "id": "6ef4c222-9620-4d9a-9c9d-eae712be3aaf",
   "metadata": {},
   "outputs": [],
   "source": [
    "# Construindo o plot das Cargas Fatoriais para cada váriável \n",
    "import matplotlib.pyplot as plt\n",
    "\n",
    "plt.figure(figsize=(12,8))\n",
    "\n",
    "tabela_cargas_chart = tabela_cargas.reset_index()\n",
    "\n",
    "plt.scatter(tabela_cargas_chart['Fator 1'], tabela_cargas_chart['Fator 2'], s=30)\n",
    "\n",
    "def label_point(x, y, val, ax):\n",
    "    a = pd.concat({'x': x, 'y': y, 'val': val}, axis=1)\n",
    "    for i, point in a.iterrows():\n",
    "        ax.text(point['x'] + 0.05, point['y'], point['val'])\n",
    "\n",
    "label_point(x = tabela_cargas_chart['Fator 1'],\n",
    "            y = tabela_cargas_chart['Fator 2'],\n",
    "            val = tabela_cargas_chart['index'],\n",
    "            ax = plt.gca()) \n",
    "\n",
    "plt.axhline(y=0, color='black', ls='--')\n",
    "plt.axvline(x=0, color='black', ls='--')\n",
    "plt.ylim([-1.5,1.5])\n",
    "plt.xlim([-1.5,1.5])\n",
    "plt.title(f\"{tabela_eigen.shape[0]} componentes principais que explicam {round(tabela_eigen['Variância'].sum()*100,2)}% da variância\", fontsize=14)\n",
    "plt.xlabel(f\"PC 1: {round(tabela_eigen.iloc[0]['Variância']*100,2)}% de variância explicada\", fontsize=14)\n",
    "plt.ylabel(f\"PC 2: {round(tabela_eigen.iloc[1]['Variância']*100,2)}% de variância explicada\", fontsize=14)\n",
    "plt.show()\n",
    "   \n",
    "plt.savefig('Factorial_Loadings_Plot.png')"
   ]
  },
  {
   "cell_type": "code",
   "execution_count": null,
   "id": "1bef9a26-3af6-4185-968e-9d176ef0b180",
   "metadata": {},
   "outputs": [],
   "source": [
    "# Gráfico da variância acumulada dos componentes principais\n",
    "plt.figure(figsize=(12,8))\n",
    "\n",
    "plt.title(f\"{tabela_eigen.shape[0]} componentes principais que explicam {round(tabela_eigen['Variância'].sum()*100,2)}% da variância\", fontsize=14)\n",
    "ax = sns.barplot(x=tabela_eigen.index, y=tabela_eigen['Variância'], data=tabela_eigen, color='green')\n",
    "\n",
    "ax.bar_label(ax.containers[0])\n",
    "plt.xlabel(\"Componentes principais\", fontsize=14)\n",
    "plt.ylabel(\"Porcentagem de variância explicada (%)\", fontsize=14)\n",
    "plt.show()"
   ]
  },
  {
   "cell_type": "code",
   "execution_count": null,
   "id": "be88097a-3718-40b8-8efe-81be91d39c12",
   "metadata": {},
   "outputs": [],
   "source": [
    "# Calculando um Ranking, com base em : Predict Fator_x * Var. Fator_x\n",
    "df['Ranking'] = 0\n",
    "\n",
    "for index, item in enumerate(list(tabela_eigen.index)):\n",
    "    variancia = tabela_eigen.loc[item]['Variância']\n",
    "    \n",
    "    df['Ranking'] = df['Ranking'] + df[tabela_eigen.index[index]]*variancia"
   ]
  },
  {
   "cell_type": "code",
   "execution_count": null,
   "id": "c8b3569b-b8ba-4dac-94a3-d824d4c97765",
   "metadata": {},
   "outputs": [],
   "source": []
  },
  {
   "cell_type": "code",
   "execution_count": null,
   "id": "b07019e4-e99f-4b1f-8fb7-7eef5ce39d54",
   "metadata": {},
   "outputs": [],
   "source": []
  }
 ],
 "metadata": {
  "kernelspec": {
   "display_name": "Python 3 (ipykernel)",
   "language": "python",
   "name": "python3"
  },
  "language_info": {
   "codemirror_mode": {
    "name": "ipython",
    "version": 3
   },
   "file_extension": ".py",
   "mimetype": "text/x-python",
   "name": "python",
   "nbconvert_exporter": "python",
   "pygments_lexer": "ipython3",
   "version": "3.9.12"
  }
 },
 "nbformat": 4,
 "nbformat_minor": 5
}
